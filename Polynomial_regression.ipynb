{
  "nbformat": 4,
  "nbformat_minor": 0,
  "metadata": {
    "kernelspec": {
      "display_name": "Python 3",
      "language": "python",
      "name": "python3"
    },
    "language_info": {
      "codemirror_mode": {
        "name": "ipython",
        "version": 3
      },
      "file_extension": ".py",
      "mimetype": "text/x-python",
      "name": "python",
      "nbconvert_exporter": "python",
      "pygments_lexer": "ipython3",
      "version": "3.7.6"
    },
    "colab": {
      "name": " Polynomial_regression_regularization.ipynb",
      "provenance": [],
      "collapsed_sections": []
    }
  },
  "cells": [
    {
      "cell_type": "markdown",
      "metadata": {
        "id": "eyjewtSBMA95"
      },
      "source": [
        "# Testing and regularization"
      ]
    },
    {
      "cell_type": "code",
      "metadata": {
        "id": "y_RXtj1eMCb3",
        "colab": {
          "base_uri": "https://localhost:8080/"
        },
        "outputId": "09fdfe49-631d-44b9-f403-4963d703e979"
      },
      "source": [
        "!git clone https://github.com/s7s/machine_learning_1.git\n",
        "%cd  machine_learning_1/polynomial_regression"
      ],
      "execution_count": null,
      "outputs": [
        {
          "output_type": "stream",
          "name": "stdout",
          "text": [
            "Cloning into 'machine_learning_1'...\n",
            "remote: Enumerating objects: 186, done.\u001b[K\n",
            "remote: Counting objects: 100% (186/186), done.\u001b[K\n",
            "remote: Compressing objects: 100% (134/134), done.\u001b[K\n",
            "remote: Total 186 (delta 85), reused 150 (delta 49), pack-reused 0\u001b[K\n",
            "Receiving objects: 100% (186/186), 34.12 MiB | 13.84 MiB/s, done.\n",
            "Resolving deltas: 100% (85/85), done.\n",
            "/content/machine_learning_1/polynomial_regression\n"
          ]
        }
      ]
    },
    {
      "cell_type": "code",
      "metadata": {
        "id": "YpX56PtFMA-A"
      },
      "source": [
        "import pandas as pd\n",
        "import numpy as np\n",
        "import random\n",
        "import matplotlib.pyplot as plt\n",
        "random.seed(0)"
      ],
      "execution_count": null,
      "outputs": []
    },
    {
      "cell_type": "markdown",
      "metadata": {
        "id": "WBD0ZY2wMA-B"
      },
      "source": [
        "## Defining our dataset"
      ]
    },
    {
      "cell_type": "code",
      "metadata": {
        "id": "4sDgbZNRMA-C",
        "colab": {
          "base_uri": "https://localhost:8080/",
          "height": 269
        },
        "outputId": "25fd30c8-14d2-4b12-d13d-f67e69843e3e"
      },
      "source": [
        "# Our original polynomial is -x^2+x+15\n",
        "coefs = [15,1,-1]\n",
        "\n",
        "def polynomial(coefs, x):\n",
        "    n = len(coefs)\n",
        "    return sum([coefs[i]*x**i for i in range(n)])\n",
        "\n",
        "def draw_polynomial(coefs):\n",
        "    n = len(coefs)\n",
        "    x = np.linspace(-5, 5, 1000)\n",
        "    plt.ylim(-20,20)\n",
        "    plt.plot(x, sum([coefs[i]*x**i for i in range(n)]), linestyle='-', color='black')\n",
        "\n",
        "draw_polynomial(coefs)"
      ],
      "execution_count": null,
      "outputs": [
        {
          "output_type": "display_data",
          "data": {
            "text/plain": [
              "<Figure size 432x288 with 1 Axes>"
            ],
            "image/png": "[encoded data removed]"
          },
          "metadata": {
            "needs_background": "light"
          }
        }
      ]
    },
    {
      "cell_type": "code",
      "metadata": {
        "id": "WvGqHRFCMA-E"
      },
      "source": [
        "X = []\n",
        "Y = []\n",
        "for i in range(40):\n",
        "    x = random.uniform(-5,5)\n",
        "    y = polynomial(coefs, x) + random.gauss(0,2)\n",
        "    X.append(x)\n",
        "    Y.append(y)\n",
        "X=np.array(X)\n",
        "Y=np.array(Y)"
      ],
      "execution_count": null,
      "outputs": []
    },
    {
      "cell_type": "code",
      "metadata": {
        "id": "ETQxgGiFMA-E",
        "colab": {
          "base_uri": "https://localhost:8080/",
          "height": 269
        },
        "outputId": "28743d38-f603-4a6a-8185-3391df5c6480"
      },
      "source": [
        "plt.scatter(X, Y)\n",
        "draw_polynomial(coefs)"
      ],
      "execution_count": null,
      "outputs": [
        {
          "output_type": "display_data",
          "data": {
            "text/plain": [
              "<Figure size 432x288 with 1 Axes>"
            ],
            "image/png": "[encoded data removed]"
          },
          "metadata": {
            "needs_background": "light"
          }
        }
      ]
    },
    {
      "cell_type": "markdown",
      "metadata": {
        "id": "wLUfmV9iMA-F"
      },
      "source": [
        "## Training a polynomial regression model"
      ]
    },
    {
      "cell_type": "code",
      "metadata": {
        "id": "xsNmJ6hoGPjb",
        "colab": {
          "base_uri": "https://localhost:8080/"
        },
        "outputId": "3f0962a1-c466-4239-9201-cd5f9a8c396e"
      },
      "source": [
        "for datasample in zip(X,Y):\n",
        "    print(datasample)"
      ],
      "execution_count": null,
      "outputs": [
        {
          "output_type": "stream",
          "name": "stdout",
          "text": [
            "(3.4442185152504816, 6.685961311021467)\n",
            "(-2.4108324970703663, 4.690236225597948)\n",
            "(0.11274721368608542, 12.205789026637378)\n",
            "(-1.9668727392107255, 11.133217991032268)\n",
            "(-0.23403045847644144, 10.927272159051856)\n",
            "(0.046868558173902564, 12.8584762866286)\n",
            "(-2.1816215560029617, 8.16012255928749)\n",
            "(-2.4949365863755943, 3.5061587527226514)\n",
            "(4.097462559682402, 5.933186396721837)\n",
            "(4.021659504395828, 2.454299054753137)\n",
            "(-1.8985243068066735, 8.956020414039855)\n",
            "(1.8398393191544127, 9.208004401915796)\n",
            "(-0.2785728454728664, 16.36505651355184)\n",
            "(1.1088697344380165, 16.14144978027318)\n",
            "(4.130110532378982, 4.299534274468492)\n",
            "(3.6530992777164, 4.83366913200435)\n",
            "(-2.395076896080406, 7.723543125251446)\n",
            "(-4.8595829983598104, -15.848718674227753)\n",
            "(2.1970468640395415, 9.366124268570305)\n",
            "(1.6815320123185087, 16.070558182542374)\n",
            "(-4.988571806855717, -18.893035332565795)\n",
            "(-2.5608912311286804, 6.043189895391749)\n",
            "(-1.7479563725260991, 11.091071520573042)\n",
            "(0.6751074062067186, 14.272553413210698)\n",
            "(-2.6138407138477984, 9.085321805751548)\n",
            "(-0.5203042856442961, 13.47860807272069)\n",
            "(-4.195541814474646, -7.812998091307244)\n",
            "(4.3283382422690675, 2.748647759010411)\n",
            "(-3.909421540688963, -7.163796336350065)\n",
            "(0.4744091132842376, 14.257854146830486)\n",
            "(3.14466863291336, 3.2664703661537313)\n",
            "(1.0318562796138302, 13.67662422703284)\n",
            "(0.8761706417543635, 12.57404063707232)\n",
            "(-1.1509885402733957, 13.436894195835206)\n",
            "(0.7565101416488851, 14.859288476607356)\n",
            "(-3.132704717444449, 3.3081236367340967)\n",
            "(1.1277317986860673, 13.596584816754236)\n",
            "(-4.1017563880440635, -7.821475002235993)\n",
            "(2.576039219664368, 14.181083579723474)\n",
            "(3.424602231401824, 3.5269925176080537)\n"
          ]
        }
      ]
    },
    {
      "cell_type": "markdown",
      "metadata": {
        "id": "Pze2ZphQMA-G"
      },
      "source": [
        "### Adding columns to our dataset corresponding to $x^2, x^3, \\ldots, x^{200}$"
      ]
    },
    {
      "cell_type": "code",
      "metadata": {
        "id": "c2XZgASOGfVv"
      },
      "source": [
        "from sklearn.preprocessing import PolynomialFeatures\n",
        "def addPoly(X,polyDegree):\n",
        "    ## TODO ##\n",
        "    #use sklearn (PolynomialFeatures method)\n",
        "    poly = PolynomialFeatures(200,include_bias=False)\n",
        "    X = poly.fit_transform(X.reshape(-1,1))\n",
        "    return X\n",
        "X_poly=addPoly(X,200)"
      ],
      "execution_count": null,
      "outputs": []
    },
    {
      "cell_type": "code",
      "metadata": {
        "id": "kKXdyM7fGzLC",
        "colab": {
          "base_uri": "https://localhost:8080/"
        },
        "outputId": "3915d5ab-1418-47bc-cb14-f87334206a17"
      },
      "source": [
        "print(X_poly.shape)\n",
        "print(X_poly[0,:])"
      ],
      "execution_count": null,
      "outputs": [
        {
          "output_type": "stream",
          "name": "stdout",
          "text": [
            "(40, 200)\n",
            "[3.44421852e+000 1.18626412e+001 4.08575284e+001 1.40722256e+002\n",
            " 4.84678199e+002 1.66933763e+003 5.74956356e+003 1.98027533e+004\n",
            " 6.82050095e+004 2.34912956e+005 8.09091554e+005 2.78668811e+006\n",
            " 9.59796279e+006 3.30574811e+007 1.13857189e+008 3.92149037e+008\n",
            " 1.35064697e+009 4.65192332e+009 1.60222404e+010 5.51840971e+010\n",
            " 1.90066089e+011 6.54629143e+011 2.25468581e+012 7.76563063e+012\n",
            " 2.67465288e+013 9.21208897e+013 3.17284474e+014 1.09279706e+015\n",
            " 3.76383187e+015 1.29634594e+016 4.46489869e+016 1.53780867e+017\n",
            " 5.29654911e+017 1.82424725e+018 6.28310616e+018 2.16403906e+019\n",
            " 7.45342338e+019 2.56712188e+020 8.84172871e+020 3.04528457e+021\n",
            " 1.04886255e+022 3.61251182e+022 1.24422801e+023 4.28539315e+023\n",
            " 1.47598304e+024 5.08360812e+024 1.75090572e+025 6.03050191e+025\n",
            " 2.07703663e+026 7.15376803e+026 2.46391403e+027 8.48625832e+027\n",
            " 2.92285280e+028 1.00669437e+029 3.46727540e+029 1.19420541e+030\n",
            " 4.11310440e+030 1.41664303e+031 4.87922816e+031 1.68051280e+032\n",
            " 5.78805329e+032 1.99353203e+033 6.86615993e+033 2.36485552e+034\n",
            " 8.14507916e+034 2.80534324e+035 9.66221514e+035 3.32787803e+036\n",
            " 1.14619391e+037 3.94774230e+037 1.35968871e+038 4.68306503e+038\n",
            " 1.61294993e+039 5.55535201e+039 1.91338463e+040 6.59011475e+040\n",
            " 2.26977953e+041 7.81761667e+041 2.69255801e+042 9.27375814e+042\n",
            " 3.19408495e+043 1.10011265e+044 3.78902837e+044 1.30502417e+045\n",
            " 4.49478839e+045 1.54810334e+046 5.33200619e+046 1.83645944e+047\n",
            " 6.32516762e+047 2.17852594e+048 7.50331939e+048 2.58430716e+049\n",
            " 8.90091855e+049 3.06567085e+050 1.05588403e+051 3.63669533e+051\n",
            " 1.25255734e+052 4.31408117e+052 1.48586383e+053 5.11763970e+053\n",
            " 1.76262694e+054 6.07087234e+054 2.09094109e+055 7.20165803e+055\n",
            " 2.48040839e+056 8.54306851e+056 2.94241947e+057 1.01343356e+058\n",
            " 3.49048664e+058 1.20219987e+059 4.14063906e+059 1.42612657e+060\n",
            " 4.91189154e+060 1.69176278e+061 5.82680069e+061 2.00687748e+062\n",
            " 6.91212458e+062 2.38068674e+063 8.19960536e+063 2.82412326e+064\n",
            " 9.72689763e+064 3.35015609e+065 1.15386696e+066 3.97416996e+066\n",
            " 1.36879098e+067 4.71441522e+067 1.62374762e+068 5.59254162e+068\n",
            " 1.92619354e+069 6.63423145e+069 2.28497428e+070 7.86995072e+070\n",
            " 2.71058300e+071 9.33584015e+071 3.21546735e+072 1.10747722e+073\n",
            " 3.81439354e+073 1.31376049e+074 4.52487819e+074 1.55846692e+075\n",
            " 5.36770063e+075 1.84875339e+076 6.36751066e+076 2.19310981e+077\n",
            " 7.55354941e+077 2.60160747e+078 8.96050463e+078 3.08619360e+079\n",
            " 1.06295251e+080 3.66104073e+080 1.26094243e+081 4.34296125e+081\n",
            " 1.49581075e+082 5.15189909e+082 1.77442662e+083 6.11151303e+083\n",
            " 2.10493864e+084 7.24986862e+084 2.49701317e+085 8.60025901e+085\n",
            " 2.96211713e+086 1.02021787e+087 3.51385326e+087 1.21024785e+088\n",
            " 4.16835804e+088 1.43567360e+089 4.94477358e+089 1.70308807e+090\n",
            " 5.86580747e+090 2.02031227e+091 6.95839692e+091 2.39662395e+092\n",
            " 8.25449659e+092 2.84302900e+093 9.79201312e+093 3.37258329e+094\n",
            " 1.16159138e+095 4.00077454e+095 1.37795417e+096 4.74597528e+096\n",
            " 1.63461759e+097 5.62998018e+097 1.93908820e+098 6.67864348e+098\n",
            " 2.30027075e+099 7.92263511e+099 2.72872865e+100 9.39833775e+100\n",
            " 3.23699289e+101 1.11489108e+102 3.83992852e+102 1.32255529e+103\n",
            " 4.55516942e+103 1.56889988e+104 5.40363403e+104 1.86112964e+105\n",
            " 6.41013716e+105 2.20779131e+106 7.60411570e+106 2.61902361e+107]\n"
          ]
        }
      ]
    },
    {
      "cell_type": "markdown",
      "metadata": {
        "id": "S8uYLISVMA-H"
      },
      "source": [
        "## Splitting data into training and testing"
      ]
    },
    {
      "cell_type": "code",
      "metadata": {
        "id": "fVnfiOyqMNLg"
      },
      "source": [
        "from sklearn.model_selection import train_test_split\n",
        "## TODO ##\n",
        "# use sklearn (train_test_split) to split data to 80% training 20% testing\n",
        "X_train, X_test, y_train, y_test = train_test_split(X_poly , Y , test_size=0.2,random_state=0)"
      ],
      "execution_count": null,
      "outputs": []
    },
    {
      "cell_type": "code",
      "metadata": {
        "id": "WmHYknzXMA-I"
      },
      "source": [
        "from sklearn.metrics import mean_squared_error\n",
        "def display_results(model):\n",
        "    coefs = [model.intercept_]\n",
        "    coefs += list(model.coef_)\n",
        "    ytrain_predict=model.predict(X_train)\n",
        "    ytest_predict=model.predict(X_test)\n",
        "    train_error=np.sqrt(mean_squared_error(y_train,ytrain_predict))\n",
        "    test_error=np.sqrt(mean_squared_error(y_test,ytest_predict))\n",
        "    print(\"Training error (rmse):\", train_error)\n",
        "    print(\"Testing error (rmse):\", test_error)\n",
        "    plt.scatter(X_train[:,0], y_train, marker='o')\n",
        "    plt.scatter(X_test[:,0], y_test, marker='^')\n",
        "    draw_polynomial(coefs)\n",
        "    plt.show()\n",
        "    print(\"Polynomial coefficients\")\n",
        "    print(coefs)"
      ],
      "execution_count": null,
      "outputs": []
    },
    {
      "cell_type": "markdown",
      "metadata": {
        "id": "G9x4Q5S3MA-I"
      },
      "source": [
        "## Training a polynomial regression model with no regularization"
      ]
    },
    {
      "cell_type": "code",
      "metadata": {
        "id": "QKm7sV7JMA-J",
        "colab": {
          "base_uri": "https://localhost:8080/"
        },
        "outputId": "3e133442-6794-4b0f-ab7f-d7b18dc8a732"
      },
      "source": [
        "from sklearn.linear_model import LinearRegression\n",
        "\n",
        "## TODO ##\n",
        "# use sklearn linear regression to fit the data \n",
        "# normalization trick ;)\n",
        "\n",
        "model_no_reg = LinearRegression(normalize=True)\n",
        "model_no_reg.fit(X_train, y_train)"
      ],
      "execution_count": null,
      "outputs": [
        {
          "output_type": "stream",
          "name": "stderr",
          "text": [
            "/usr/local/lib/python3.7/dist-packages/sklearn/linear_model/_base.py:145: FutureWarning: 'normalize' was deprecated in version 1.0 and will be removed in 1.2.\n",
            "If you wish to scale the data, use Pipeline with a StandardScaler in a preprocessing stage. To reproduce the previous behavior:\n",
            "\n",
            "from sklearn.pipeline import make_pipeline\n",
            "\n",
            "model = make_pipeline(StandardScaler(with_mean=False), LinearRegression())\n",
            "\n",
            "If you wish to pass a sample_weight parameter, you need to pass it as a fit parameter to each step of the pipeline as follows:\n",
            "\n",
            "kwargs = {s[0] + '__sample_weight': sample_weight for s in model.steps}\n",
            "model.fit(X, y, **kwargs)\n",
            "\n",
            "\n",
            "  FutureWarning,\n"
          ]
        },
        {
          "output_type": "execute_result",
          "data": {
            "text/plain": [
              "LinearRegression(normalize=True)"
            ]
          },
          "metadata": {},
          "execution_count": 20
        }
      ]
    },
    {
      "cell_type": "code",
      "metadata": {
        "id": "uje8MamakgwD",
        "colab": {
          "base_uri": "https://localhost:8080/",
          "height": 362
        },
        "outputId": "bf848367-b2f8-4f94-e3d1-953bf1dbdf44"
      },
      "source": [
        "display_results(model_no_reg)"
      ],
      "execution_count": null,
      "outputs": [
        {
          "output_type": "stream",
          "name": "stdout",
          "text": [
            "Training error (rmse): 0.243279449656618\n",
            "Testing error (rmse): 8562356.879762787\n"
          ]
        },
        {
          "output_type": "display_data",
          "data": {
            "text/plain": [
              "<Figure size 432x288 with 1 Axes>"
            ],
            "image/png": "[encoded data removed]"
          },
          "metadata": {
            "needs_background": "light"
          }
        },
        {
          "output_type": "stream",
          "name": "stdout",
          "text": [
            "Polynomial coefficients\n",
            "[11.37072496953257, 39.629250207375414, -171.9084256816256, -1267.9411915114065, 2519.694444379135, 5840.578720120951, -10899.69787249104, -8116.499067679131, 17028.838840325072, 5283.509588976455, -13092.068558000034, -2034.279515224768, 5695.931801207632, 537.5406255187536, -1485.124501590341, -101.54270363391089, 233.1686562733003, 12.365064903026953, -20.830200437382175, -0.7194824136275486, 0.8486329844463176, -0.005922461620874213, 0.0032030799173842018, 0.0019691152596680913, -0.0009420414155430466, 2.0118593332678002e-05, -1.6576483908599557e-05, -2.870413998374996e-06, 6.713571716731895e-07, -1.2890296180364407e-07, 4.164140874425887e-08, -1.146604370227724e-09, 9.304378126097016e-10, 1.339061556364666e-10, -6.936676158467265e-12, 8.614089552189142e-12, -1.4816388708592044e-12, 3.0094337886684566e-13, -7.397713218019807e-14, 6.06788959935317e-15, -2.4135369686570163e-15, -3.3688591338797037e-17, -5.409184056551818e-17, -1.1013567284282524e-17, -2.524308130787224e-19, -6.711272927721811e-19, 5.577817799053939e-20, -2.921710359436186e-20, 4.090713191461301e-21, -1.1101259298797032e-21, 2.097330832986134e-22, -3.539380098939911e-23, 8.694573960636808e-24, -1.0386461496746648e-24, 3.3384047840862218e-25, -2.1296205450607467e-26, 1.210228261329079e-26, -1.3800208869423077e-28, 3.9675350382831612e-28, 1.7333507819520072e-29, 1.2364949608008679e-29, 1.4873599044603788e-30, 3.56617807191477e-31, 8.147936549594363e-32, 8.958798207724183e-33, 3.912553587563438e-33, 1.7705591415413825e-34, 1.7083024538450705e-34, -2.325538554355334e-37, 7.155794598796102e-36, -1.6987749554860408e-37, 2.93122118883515e-37, -1.5233215007540342e-38, 1.1519102378067768e-38, -7.753817819185972e-40, 4.564952752934369e-40, -3.984630655220311e-41, 1.7210315259555642e-41, -1.6382072064321944e-42, 6.502005550042699e-43, -7.094018473364892e-44, 2.5007986980657257e-44, -2.933086450821278e-45, 9.230271583483565e-46, -1.1645295191959726e-46, 3.490205891415482e-47, -4.796171165047646e-48, 1.2384951614784728e-48, -1.8248325702368757e-49, 4.905176747838362e-50, -7.030425311914202e-51, 1.7794367430246642e-51, -2.6752577331085438e-52, 6.289218776082474e-53, -9.975366332742538e-54, 2.331620177840287e-54, -3.8650815925246786e-55, 8.68935722598642e-56, -1.406284664694122e-56, 3.223226691670467e-57, -5.40193902472858e-58, 1.0594069821968554e-58, -1.8026207856173612e-59, 4.25891868526778e-60, -7.473323436574378e-61, 1.4095360861391033e-61, -2.4585749874173013e-62, 5.258403719882273e-63, -8.861970071076766e-64, 1.9722948585530088e-64, -3.4296072798898404e-65, 6.448309514845334e-66, -1.1258782019353545e-66, 1.9737284038836634e-67, -3.5026367356595927e-68, 8.48189773443066e-69, -1.3613741805606034e-69, 2.6729355095871348e-70, -4.144782679914606e-71, 9.253723571216161e-72, -1.213215211993959e-72, 1.9826393472358154e-73, -4.3329314576597755e-74, 7.324667548151421e-75, -1.5150789228735674e-75, 2.0980123440921492e-76, -1.157344562623351e-77, 1.7810020930379912e-78, -4.576676206090549e-79, -7.43066904373104e-80, 3.6830580320467136e-80, -3.85670068144793e-81, 1.5287857283710944e-81, -8.347487232343626e-82, 1.9706749148725226e-82, -2.510964929979944e-83, 7.214141451047589e-84, -1.7392458935816044e-84, 3.092136378584328e-85, -5.551004980498687e-86, 1.2166840067550609e-86, -3.437447499347112e-87, 9.076292764730731e-88, -1.6875895800156008e-88, 3.3733814775907955e-89, -7.261964251278518e-90, 1.4564270462336037e-90, -3.1973834695738204e-91, 6.406483056503599e-92, -1.331342702050018e-92, 2.919451431177619e-93, -5.742555650782318e-94, 9.873892316979269e-95, -2.2636663219296874e-95, 4.798440031353222e-96, -1.1808769130360987e-96, 2.422504447710987e-97, -4.371823901358827e-98, 1.0511475800504829e-98, -2.046265530966494e-99, 3.724759188610859e-100, -6.868807661821798e-101, 1.4952116678702836e-101, -3.084136084661798e-102, 6.512062026346177e-103, -1.4387050825182503e-103, 2.913749714847892e-104, -5.9807328376437e-105, 1.1273605440278745e-105, -2.493486855711579e-106, 5.132968208492807e-107, -9.5778566573397e-108, 2.0932166153074485e-108, -4.136827143298285e-109, 8.588321788102831e-110, -1.5819948417692533e-110, 3.399564686804063e-111, -6.548468886779615e-112, 1.3388859649011314e-112, -2.7381765397099186e-113, 5.485530406949694e-114, -1.1343930604862686e-114, 2.292963466770042e-115, -4.901566670155773e-116, 9.491645295767373e-117, -1.850894388468617e-117, 3.837024581334689e-118, -7.628973312508561e-119, 1.613223843205852e-119, -2.8936806035736386e-120, 6.383987740592359e-121, -1.24644727075507e-121, 2.4326420020919234e-122, -4.8699611680477567e-123, 1.0341601612368183e-123, -1.975387901246142e-124, 4.3381071930754136e-125, -8.283254332598326e-126, 1.6870480004258692e-126, -3.618220877419205e-127, 7.16024122168981e-128]\n"
          ]
        }
      ]
    },
    {
      "cell_type": "markdown",
      "metadata": {
        "id": "TLTU-3ojMA-J"
      },
      "source": [
        "## Training a polynomial regression model with L1 regularization"
      ]
    },
    {
      "cell_type": "code",
      "metadata": {
        "id": "sBfyPNvMMA-J",
        "colab": {
          "base_uri": "https://localhost:8080/"
        },
        "outputId": "e9b44776-eb41-481b-878a-35f4be457c40"
      },
      "source": [
        "from locale import normalize\n",
        "from sklearn import linear_model\n",
        "## TODO ##\n",
        "# use sklearn Lasso (linear regression with L1 Norm) to fit the data \n",
        "# normalization trick ;)\n",
        "\n",
        "model_L1_reg = linear_model.Lasso(normalize=True)\n",
        "model_L1_reg.fit(X_train,y_train)"
      ],
      "execution_count": null,
      "outputs": [
        {
          "output_type": "stream",
          "name": "stderr",
          "text": [
            "/usr/local/lib/python3.7/dist-packages/sklearn/linear_model/_base.py:145: FutureWarning: 'normalize' was deprecated in version 1.0 and will be removed in 1.2.\n",
            "If you wish to scale the data, use Pipeline with a StandardScaler in a preprocessing stage. To reproduce the previous behavior:\n",
            "\n",
            "from sklearn.pipeline import make_pipeline\n",
            "\n",
            "model = make_pipeline(StandardScaler(with_mean=False), Lasso())\n",
            "\n",
            "If you wish to pass a sample_weight parameter, you need to pass it as a fit parameter to each step of the pipeline as follows:\n",
            "\n",
            "kwargs = {s[0] + '__sample_weight': sample_weight for s in model.steps}\n",
            "model.fit(X, y, **kwargs)\n",
            "\n",
            "Set parameter alpha to: original_alpha * np.sqrt(n_samples). \n",
            "  FutureWarning,\n"
          ]
        },
        {
          "output_type": "execute_result",
          "data": {
            "text/plain": [
              "Lasso(normalize=True)"
            ]
          },
          "metadata": {},
          "execution_count": 25
        }
      ]
    },
    {
      "cell_type": "code",
      "metadata": {
        "id": "LOYlQsU5MA-K",
        "colab": {
          "base_uri": "https://localhost:8080/",
          "height": 362
        },
        "outputId": "c6d6c2a7-1892-4db7-aa0d-e9f61d8062fc"
      },
      "source": [
        "display_results(model_L1_reg)"
      ],
      "execution_count": null,
      "outputs": [
        {
          "output_type": "stream",
          "name": "stdout",
          "text": [
            "Training error (rmse): 6.9028426754326055\n",
            "Testing error (rmse): 2.7861296097885853\n"
          ]
        },
        {
          "output_type": "display_data",
          "data": {
            "text/plain": [
              "<Figure size 432x288 with 1 Axes>"
            ],
            "image/png": "[encoded data removed]"
          },
          "metadata": {
            "needs_background": "light"
          }
        },
        {
          "output_type": "stream",
          "name": "stdout",
          "text": [
            "Polynomial coefficients\n",
            "[8.575859829431916, 0.0, -0.07249956273419302, 0.0, -0.011780051463037632, 0.0, -0.0, 0.0, -0.0, 0.0, -0.0, 0.0, -0.0, 0.0, -0.0, 0.0, -0.0, 0.0, -0.0, 0.0, -0.0, 0.0, -0.0, 0.0, -0.0, 0.0, -0.0, 0.0, -0.0, 0.0, -0.0, 0.0, -0.0, 0.0, -0.0, 0.0, -0.0, 0.0, -0.0, 0.0, -0.0, 0.0, -0.0, 0.0, -0.0, 0.0, -0.0, 0.0, -0.0, 0.0, -0.0, 0.0, -0.0, 0.0, -0.0, 0.0, -0.0, 0.0, -0.0, 0.0, -0.0, 0.0, -0.0, 0.0, -0.0, 0.0, -0.0, 0.0, -0.0, 0.0, -0.0, 0.0, -0.0, 0.0, -0.0, 0.0, -0.0, 0.0, -0.0, 0.0, -0.0, 0.0, -0.0, 0.0, -0.0, 0.0, -0.0, 0.0, -0.0, 0.0, -0.0, 0.0, -0.0, 0.0, -0.0, 0.0, -0.0, 0.0, -0.0, 0.0, -0.0, 0.0, -0.0, 0.0, -0.0, 0.0, -0.0, 0.0, -0.0, 0.0, -0.0, 0.0, -0.0, 0.0, -0.0, 0.0, -0.0, 0.0, -0.0, 0.0, -0.0, 0.0, -0.0, 0.0, -0.0, 0.0, -0.0, 0.0, -0.0, 0.0, -0.0, 0.0, -0.0, 0.0, -0.0, 0.0, -0.0, 0.0, -0.0, 0.0, -0.0, 0.0, -0.0, 0.0, -0.0, 0.0, -0.0, 0.0, -0.0, 0.0, -0.0, 0.0, -0.0, 0.0, -0.0, 0.0, -0.0, 0.0, -0.0, 0.0, -0.0, 0.0, -0.0, 0.0, -0.0, 0.0, -0.0, 0.0, -0.0, 0.0, -0.0, 0.0, -0.0, 0.0, -0.0, 0.0, -0.0, 0.0, -0.0, 0.0, -0.0, 0.0, -0.0, 0.0, -0.0, 0.0, -0.0, 0.0, -0.0, 0.0, -0.0, 0.0, -0.0, 0.0, -0.0, 0.0, -0.0, 0.0, -0.0, 0.0, -0.0]\n"
          ]
        }
      ]
    },
    {
      "cell_type": "markdown",
      "metadata": {
        "id": "21v4zgmbMA-K"
      },
      "source": [
        "## Training a polynomial regression model with L2 regularization"
      ]
    },
    {
      "cell_type": "code",
      "metadata": {
        "id": "MrSeiPXPMA-K",
        "colab": {
          "base_uri": "https://localhost:8080/"
        },
        "outputId": "c12186ff-3762-409c-b1fb-243a0a2d5e27"
      },
      "source": [
        "from sklearn import linear_model\n",
        "## TODO ##\n",
        "# use sklearn Ridge (linear regression with L2 Norm) to fit the data \n",
        "# normalization trick ;)\n",
        "\n",
        "model_L2_reg = linear_model.Ridge(normalize=True)\n",
        "model_L2_reg.fit(X_train,y_train)"
      ],
      "execution_count": null,
      "outputs": [
        {
          "output_type": "stream",
          "name": "stderr",
          "text": [
            "/usr/local/lib/python3.7/dist-packages/sklearn/linear_model/_base.py:145: FutureWarning: 'normalize' was deprecated in version 1.0 and will be removed in 1.2.\n",
            "If you wish to scale the data, use Pipeline with a StandardScaler in a preprocessing stage. To reproduce the previous behavior:\n",
            "\n",
            "from sklearn.pipeline import make_pipeline\n",
            "\n",
            "model = make_pipeline(StandardScaler(with_mean=False), Ridge())\n",
            "\n",
            "If you wish to pass a sample_weight parameter, you need to pass it as a fit parameter to each step of the pipeline as follows:\n",
            "\n",
            "kwargs = {s[0] + '__sample_weight': sample_weight for s in model.steps}\n",
            "model.fit(X, y, **kwargs)\n",
            "\n",
            "Set parameter alpha to: original_alpha * n_samples. \n",
            "  FutureWarning,\n"
          ]
        },
        {
          "output_type": "execute_result",
          "data": {
            "text/plain": [
              "Ridge(normalize=True)"
            ]
          },
          "metadata": {},
          "execution_count": 27
        }
      ]
    },
    {
      "cell_type": "code",
      "metadata": {
        "id": "TyLoFFM_MA-L",
        "colab": {
          "base_uri": "https://localhost:8080/",
          "height": 362
        },
        "outputId": "2ed5d311-ca67-4adc-d289-32b8b95a7048"
      },
      "source": [
        "display_results(model_L2_reg)"
      ],
      "execution_count": null,
      "outputs": [
        {
          "output_type": "stream",
          "name": "stdout",
          "text": [
            "Training error (rmse): 3.2717376900014643\n",
            "Testing error (rmse): 3.21969700072997\n"
          ]
        },
        {
          "output_type": "display_data",
          "data": {
            "text/plain": [
              "<Figure size 432x288 with 1 Axes>"
            ],
            "image/png": "[encoded data removed]"
          },
          "metadata": {
            "needs_background": "light"
          }
        },
        {
          "output_type": "stream",
          "name": "stdout",
          "text": [
            "Polynomial coefficients\n",
            "[11.198460835295219, 0.3779976855922865, -0.2505903924734304, 0.014114287816402234, -0.008494454718690921, 0.0004753352224808723, -0.0002701249008720007, 1.506724594774537e-05, -8.049756377551479e-06, 4.4500262380833504e-07, -2.287248876871985e-07, 1.22827308246404e-08, -6.303871479330242e-09, 3.164648953245865e-10, -1.6996419246310057e-10, 7.452434141934085e-12, -4.48308028579103e-12, 1.4892405055127854e-13, -1.1477602200322647e-13, 1.7918944606475475e-15, -2.799486322744411e-15, -4.219391369852902e-17, -6.237628576678522e-17, -4.73370949295123e-18, -1.1257966634462276e-18, -2.685816385868647e-19, -7.428762460917566e-21, -1.2719914247863676e-20, 7.264256231370146e-22, -5.546945967279992e-22, 5.65132036589021e-23, -2.3106949470585115e-23, 2.9794402460465936e-24, -9.358767688991083e-25, 1.3724961493588952e-25, -3.7213988915426073e-26, 5.911791513917329e-27, -1.461290972692584e-27, 2.4486756377633976e-28, -5.687393298460305e-29, 9.892529354118937e-30, -2.1993271628542415e-30, 3.929655019567989e-31, -8.464030864679413e-32, 1.5425086135547986e-32, -3.2453627230773844e-33, 6.0023640805474515e-34, -1.2407558724880361e-34, 2.3204721934359388e-35, -4.7324148452551943e-36, 8.925588375594792e-37, -1.8014312680981324e-37, 3.419471115786268e-38, -6.845507085282916e-39, 1.3057703177986955e-39, -2.597317057931788e-40, 4.972706735147538e-41, -9.840736953527604e-42, 1.8893125224218223e-42, -3.723451901377778e-43, 7.163383948179959e-44, -1.407007492781507e-44, 2.7109324642543128e-45, -5.30988063909999e-46, 1.0241421123774854e-46, -2.0012720978510397e-47, 3.8625682088747584e-48, -7.532644031590316e-49, 1.4543947606642787e-49, -2.8313129135166426e-50, 5.46738511414319e-51, -1.0626720079004206e-51, 2.051900632474569e-52, -3.9824098763861124e-53, 7.687558847047451e-54, -1.489994305754849e-54, 2.8750192833777495e-55, -5.564975959764359e-56, 1.0731647321787352e-56, -2.0745341367564508e-57, 3.997663977107217e-58, -7.717633707707874e-59, 1.4858947229321285e-59, -2.8646328565850675e-60, 5.509651823744316e-61, -1.060656721093279e-61, 2.0375562317106897e-62, -3.9163676673147315e-63, 7.513088653507945e-64, -1.4416314003799394e-64, 2.761211764914705e-65, -5.288336603823837e-66, 1.0110455836044066e-66, -1.9323033895148474e-67, 3.6864611094238662e-68, -7.028715129221202e-69, 1.3376542914359338e-69, -2.5434103047387193e-70, 4.826523709311695e-71, -9.147782340887756e-72, 1.7300290595854216e-72, -3.2665512094183086e-73, 6.152486460928788e-74, -1.1564002850039808e-74, 2.1672225062623262e-75, -4.0507466260039375e-76, 7.544607329875425e-77, -1.4003073763015744e-77, 2.587557340857528e-78, -4.759293566555007e-79, 8.703343357094155e-80, -1.5814721916509286e-80, 2.850954639682608e-81, -5.092399866141119e-82, 8.990653269926661e-83, -1.564752981954315e-83, 2.672373024233519e-84, -4.451068726349818e-85, 7.15189258940789e-86, -1.0881199578710812e-86, 1.505999461055761e-87, -1.7010407567465877e-88, 8.349833579893216e-90, 3.3522149385098157e-90, -1.653863033914218e-90, 5.232025694731597e-91, -1.4232176535194053e-91, 3.5838926209619154e-92, -8.611915451444101e-93, 2.0050610156015447e-93, -4.563710950290984e-94, 1.021121000319235e-94, -2.254504738837409e-95, 4.924633665480384e-96, -1.066335449859962e-96, 2.2920999787461763e-97, -4.896508849118878e-98, 1.0404735034707586e-98, -2.2007919410887477e-99, 4.636361526807977e-100, -9.732749264271794e-101, 2.036684450700164e-101, -4.250004720539607e-102, 8.846156980892211e-103, -1.8370758085376228e-103, 3.807127233952661e-104, -7.874926458256448e-105, 1.626086353273095e-105, -3.352362976760206e-106, 6.901171003977945e-107, -1.4187566241598236e-107, 2.9130592786196898e-108, -5.974290012348648e-109, 1.2239214909661842e-109, -2.5048573675320954e-110, 5.121569768488981e-111, -1.0462611679930439e-111, 2.135588996162012e-112, -4.3556972226142623e-113, 8.877280892683452e-114, -1.8080187708555354e-114, 3.6799625584844027e-115, -7.48543440324519e-116, 1.5217317882740008e-116, -3.0918621241500294e-117, 6.278781682195159e-118, -1.2744284933985428e-118, 2.5855390402029384e-119, -5.243150385925944e-120, 1.0627924465811987e-120, -2.1534179000665174e-121, 4.361542299450109e-122, -8.830625972562532e-123, 1.7872682905183504e-123, -3.6161104686648863e-124, 7.313979022543557e-125, -1.4788763605903665e-125, 2.9893850394346514e-126, -6.041003330217562e-127, 1.2204461254229108e-127, -2.4649907731734513e-128, 4.9774132045942157e-129, -1.0048197010489872e-129, 2.0280223831002847e-130, -4.092242956417684e-131, 8.255774993449027e-132, -1.6651968850135147e-132, 3.3580564567150607e-133, -6.770617198290534e-134, 1.3648641883531395e-134, -2.7508976959880213e-135, 5.543525348506066e-136, -1.1169323895838902e-136, 2.2500880543997836e-137, -4.532171617268162e-138, 9.127454969145169e-139, -1.837941940872315e-139, 3.7004516727196764e-140, -7.449387715982461e-141, 1.4994474919604785e-141, -3.0177875118272295e-142]\n"
          ]
        }
      ]
    },
    {
      "cell_type": "markdown",
      "source": [
        "## Training a polynomial regression model with **Elistic Net** regularization"
      ],
      "metadata": {
        "id": "7_4p-UxKdfvf"
      }
    },
    {
      "cell_type": "code",
      "source": [
        "from sklearn import linear_model\n",
        "\n",
        "model_Elistic_reg = linear_model.ElasticNet(0.1,normalize=True)\n",
        "model_Elistic_reg .fit(X_train,y_train)\n"
      ],
      "metadata": {
        "colab": {
          "base_uri": "https://localhost:8080/"
        },
        "id": "XAuj2g1ddvnD",
        "outputId": "e52bd818-813e-4bee-e77a-bb988d1e3745"
      },
      "execution_count": null,
      "outputs": [
        {
          "output_type": "stream",
          "name": "stderr",
          "text": [
            "/usr/local/lib/python3.7/dist-packages/sklearn/linear_model/_base.py:145: FutureWarning: 'normalize' was deprecated in version 1.0 and will be removed in 1.2.\n",
            "If you wish to scale the data, use Pipeline with a StandardScaler in a preprocessing stage. To reproduce the previous behavior:\n",
            "\n",
            "from sklearn.pipeline import make_pipeline\n",
            "\n",
            "model = make_pipeline(StandardScaler(with_mean=False), ElasticNet())\n",
            "\n",
            "If you wish to pass a sample_weight parameter, you need to pass it as a fit parameter to each step of the pipeline as follows:\n",
            "\n",
            "kwargs = {s[0] + '__sample_weight': sample_weight for s in model.steps}\n",
            "model.fit(X, y, **kwargs)\n",
            "\n",
            "Set parameter alpha to original_alpha * np.sqrt(n_samples) if l1_ratio is 1, and to original_alpha * n_samples if l1_ratio is 0. For other values of l1_ratio, no analytic formula is available.\n",
            "  FutureWarning,\n"
          ]
        },
        {
          "output_type": "execute_result",
          "data": {
            "text/plain": [
              "ElasticNet(alpha=0.1, normalize=True)"
            ]
          },
          "metadata": {},
          "execution_count": 33
        }
      ]
    },
    {
      "cell_type": "code",
      "source": [
        "display_results(model_Elistic_reg)"
      ],
      "metadata": {
        "colab": {
          "base_uri": "https://localhost:8080/",
          "height": 362
        },
        "id": "byd-34aZeSK7",
        "outputId": "50ff9aac-0fb8-4662-a66e-cbc596a12ca0"
      },
      "execution_count": null,
      "outputs": [
        {
          "output_type": "stream",
          "name": "stdout",
          "text": [
            "Training error (rmse): 3.919919509220427\n",
            "Testing error (rmse): 3.14403581831805\n"
          ]
        },
        {
          "output_type": "display_data",
          "data": {
            "text/plain": [
              "<Figure size 432x288 with 1 Axes>"
            ],
            "image/png": "[encoded data removed]"
          },
          "metadata": {
            "needs_background": "light"
          }
        },
        {
          "output_type": "stream",
          "name": "stdout",
          "text": [
            "Polynomial coefficients\n",
            "[10.501478672278736, 0.27210966859868807, -0.19318770234016416, 0.010924693153549374, -0.006802602906722458, 0.00039608848847146895, -0.00022442139091335633, 1.352426220017678e-05, -6.94359408559382e-06, 4.3272030718275575e-07, -2.053716202694893e-07, 1.31201445559422e-08, -5.918449155007109e-09, 3.813057902723652e-10, -1.6793167977827596e-10, 1.0649415645552677e-11, -4.70131275006185e-12, 2.8241660091238544e-13, -1.2914074913302114e-13, 6.829897091319222e-15, -3.4278061578196187e-15, 1.3204082521563998e-16, -8.494020569392223e-17, 6.979443524074976e-19, -1.794604468744509e-18, 0.0, -2.1443692997473765e-20, 0.0, -0.0, 0.0, -0.0, 0.0, -0.0, 0.0, -0.0, 0.0, -0.0, 0.0, -0.0, 0.0, -0.0, 0.0, -0.0, 0.0, -0.0, 0.0, -0.0, 0.0, -0.0, 0.0, -0.0, 0.0, -0.0, 0.0, -0.0, 0.0, -0.0, 0.0, -0.0, 0.0, -0.0, 0.0, -0.0, 0.0, -0.0, 0.0, -0.0, 0.0, -0.0, 0.0, -0.0, 0.0, -0.0, 0.0, -0.0, 0.0, -0.0, 0.0, -0.0, 0.0, -0.0, 0.0, -0.0, 0.0, -0.0, 0.0, -0.0, 0.0, -0.0, 0.0, -0.0, 0.0, -0.0, 0.0, -0.0, 0.0, -0.0, 0.0, -0.0, 0.0, -0.0, 0.0, -0.0, 0.0, -0.0, 0.0, -0.0, 0.0, -0.0, 0.0, -0.0, 0.0, -0.0, 0.0, -0.0, 0.0, -0.0, 0.0, -0.0, 0.0, -0.0, 0.0, -0.0, 0.0, -0.0, 0.0, -0.0, 0.0, -0.0, 0.0, -0.0, 0.0, -0.0, 0.0, -0.0, 0.0, -0.0, 0.0, -0.0, 0.0, -0.0, 0.0, -0.0, 0.0, -0.0, 0.0, -0.0, 0.0, -0.0, 0.0, -0.0, 0.0, -0.0, 0.0, -0.0, 0.0, -0.0, 0.0, -0.0, 0.0, -0.0, 0.0, -0.0, 0.0, -0.0, 0.0, -0.0, 0.0, -0.0, 0.0, -0.0, 0.0, -0.0, 0.0, -0.0, 0.0, -0.0, 0.0, -0.0, 0.0, -0.0, 0.0, -0.0, 0.0, -0.0, 0.0, -0.0, 0.0, -0.0, 0.0, -0.0, 0.0, -0.0, 0.0, -0.0, 0.0, -0.0, 0.0, -0.0, 0.0, -0.0]\n"
          ]
        }
      ]
    },
    {
      "cell_type": "markdown",
      "metadata": {
        "id": "1EsLoBMqMA-L"
      },
      "source": [
        "## Viewing the predictions in the testing set"
      ]
    },
    {
      "cell_type": "code",
      "metadata": {
        "id": "TPp6zYZ6MA-L",
        "colab": {
          "base_uri": "https://localhost:8080/",
          "height": 300
        },
        "outputId": "1ab8e291-e465-45a8-f769-ff543107e001"
      },
      "source": [
        "import pandas as pd\n",
        "from IPython.display import display\n",
        "predictions={}\n",
        "predictions ['x']=X_test[:,0]\n",
        "predictions ['y']=y_test\n",
        "predictions['No reg'] = model_no_reg.predict(X_test)\n",
        "predictions['L1 reg'] = model_L1_reg.predict(X_test)\n",
        "predictions['L2 reg'] = model_L2_reg.predict(X_test)\n",
        "predictions=pd.DataFrame.from_dict(predictions)\n",
        "display(predictions)"
      ],
      "execution_count": null,
      "outputs": [
        {
          "output_type": "display_data",
          "data": {
            "text/plain": [
              "          x          y        No reg    L1 reg     L2 reg\n",
              "0  3.444219   6.685961 -1.596241e+07  6.058108   8.580658\n",
              "1  3.424602   3.526993 -1.625013e+07  6.105321   8.639018\n",
              "2 -1.898524   8.956020 -4.814077e+02  8.161500   9.343271\n",
              "3  1.839839   9.208004  9.787628e+02  8.195469  11.035804\n",
              "4  0.474409  14.257854 -1.336746e+00  8.558946  11.322473\n",
              "5 -2.395077   7.723543  1.034651e+01  7.772337   8.275170\n",
              "6  3.144669   3.266470 -8.224708e+06  6.706931   9.359675\n",
              "7 -1.966873  11.133218 -4.724035e+02  8.119089   9.217441"
            ],
            "text/html": [
              "\n",
              "  <div id=\"df-b00cb97c-aeb4-430b-95af-81bc4b8d05dc\">\n",
              "    <div class=\"colab-df-container\">\n",
              "      <div>\n",
              "<style scoped>\n",
              "    .dataframe tbody tr th:only-of-type {\n",
              "        vertical-align: middle;\n",
              "    }\n",
              "\n",
              "    .dataframe tbody tr th {\n",
              "        vertical-align: top;\n",
              "    }\n",
              "\n",
              "    .dataframe thead th {\n",
              "        text-align: right;\n",
              "    }\n",
              "</style>\n",
              "<table border=\"1\" class=\"dataframe\">\n",
              "  <thead>\n",
              "    <tr style=\"text-align: right;\">\n",
              "      <th></th>\n",
              "      <th>x</th>\n",
              "      <th>y</th>\n",
              "      <th>No reg</th>\n",
              "      <th>L1 reg</th>\n",
              "      <th>L2 reg</th>\n",
              "    </tr>\n",
              "  </thead>\n",
              "  <tbody>\n",
              "    <tr>\n",
              "      <th>0</th>\n",
              "      <td>3.444219</td>\n",
              "      <td>6.685961</td>\n",
              "      <td>-1.596241e+07</td>\n",
              "      <td>6.058108</td>\n",
              "      <td>8.580658</td>\n",
              "    </tr>\n",
              "    <tr>\n",
              "      <th>1</th>\n",
              "      <td>3.424602</td>\n",
              "      <td>3.526993</td>\n",
              "      <td>-1.625013e+07</td>\n",
              "      <td>6.105321</td>\n",
              "      <td>8.639018</td>\n",
              "    </tr>\n",
              "    <tr>\n",
              "      <th>2</th>\n",
              "      <td>-1.898524</td>\n",
              "      <td>8.956020</td>\n",
              "      <td>-4.814077e+02</td>\n",
              "      <td>8.161500</td>\n",
              "      <td>9.343271</td>\n",
              "    </tr>\n",
              "    <tr>\n",
              "      <th>3</th>\n",
              "      <td>1.839839</td>\n",
              "      <td>9.208004</td>\n",
              "      <td>9.787628e+02</td>\n",
              "      <td>8.195469</td>\n",
              "      <td>11.035804</td>\n",
              "    </tr>\n",
              "    <tr>\n",
              "      <th>4</th>\n",
              "      <td>0.474409</td>\n",
              "      <td>14.257854</td>\n",
              "      <td>-1.336746e+00</td>\n",
              "      <td>8.558946</td>\n",
              "      <td>11.322473</td>\n",
              "    </tr>\n",
              "    <tr>\n",
              "      <th>5</th>\n",
              "      <td>-2.395077</td>\n",
              "      <td>7.723543</td>\n",
              "      <td>1.034651e+01</td>\n",
              "      <td>7.772337</td>\n",
              "      <td>8.275170</td>\n",
              "    </tr>\n",
              "    <tr>\n",
              "      <th>6</th>\n",
              "      <td>3.144669</td>\n",
              "      <td>3.266470</td>\n",
              "      <td>-8.224708e+06</td>\n",
              "      <td>6.706931</td>\n",
              "      <td>9.359675</td>\n",
              "    </tr>\n",
              "    <tr>\n",
              "      <th>7</th>\n",
              "      <td>-1.966873</td>\n",
              "      <td>11.133218</td>\n",
              "      <td>-4.724035e+02</td>\n",
              "      <td>8.119089</td>\n",
              "      <td>9.217441</td>\n",
              "    </tr>\n",
              "  </tbody>\n",
              "</table>\n",
              "</div>\n",
              "      <button class=\"colab-df-convert\" onclick=\"convertToInteractive('df-b00cb97c-aeb4-430b-95af-81bc4b8d05dc')\"\n",
              "              title=\"Convert this dataframe to an interactive table.\"\n",
              "              style=\"display:none;\">\n",
              "        \n",
              "  <svg xmlns=\"http://www.w3.org/2000/svg\" height=\"24px\"viewBox=\"0 0 24 24\"\n",
              "       width=\"24px\">\n",
              "    <path d=\"M0 0h24v24H0V0z\" fill=\"none\"/>\n",
              "    <path d=\"M18.56 5.44l.94 2.06.94-2.06 2.06-.94-2.06-.94-.94-2.06-.94 2.06-2.06.94zm-11 1L8.5 8.5l.94-2.06 2.06-.94-2.06-.94L8.5 2.5l-.94 2.06-2.06.94zm10 10l.94 2.06.94-2.06 2.06-.94-2.06-.94-.94-2.06-.94 2.06-2.06.94z\"/><path d=\"M17.41 7.96l-1.37-1.37c-.4-.4-.92-.59-1.43-.59-.52 0-1.04.2-1.43.59L10.3 9.45l-7.72 7.72c-.78.78-.78 2.05 0 2.83L4 21.41c.39.39.9.59 1.41.59.51 0 1.02-.2 1.41-.59l7.78-7.78 2.81-2.81c.8-.78.8-2.07 0-2.86zM5.41 20L4 18.59l7.72-7.72 1.47 1.35L5.41 20z\"/>\n",
              "  </svg>\n",
              "      </button>\n",
              "      \n",
              "  <style>\n",
              "    .colab-df-container {\n",
              "      display:flex;\n",
              "      flex-wrap:wrap;\n",
              "      gap: 12px;\n",
              "    }\n",
              "\n",
              "    .colab-df-convert {\n",
              "      background-color: #E8F0FE;\n",
              "      border: none;\n",
              "      border-radius: 50%;\n",
              "      cursor: pointer;\n",
              "      display: none;\n",
              "      fill: #1967D2;\n",
              "      height: 32px;\n",
              "      padding: 0 0 0 0;\n",
              "      width: 32px;\n",
              "    }\n",
              "\n",
              "    .colab-df-convert:hover {\n",
              "      background-color: #E2EBFA;\n",
              "      box-shadow: 0px 1px 2px rgba(60, 64, 67, 0.3), 0px 1px 3px 1px rgba(60, 64, 67, 0.15);\n",
              "      fill: #174EA6;\n",
              "    }\n",
              "\n",
              "    [theme=dark] .colab-df-convert {\n",
              "      background-color: #3B4455;\n",
              "      fill: #D2E3FC;\n",
              "    }\n",
              "\n",
              "    [theme=dark] .colab-df-convert:hover {\n",
              "      background-color: #434B5C;\n",
              "      box-shadow: 0px 1px 3px 1px rgba(0, 0, 0, 0.15);\n",
              "      filter: drop-shadow(0px 1px 2px rgba(0, 0, 0, 0.3));\n",
              "      fill: #FFFFFF;\n",
              "    }\n",
              "  </style>\n",
              "\n",
              "      <script>\n",
              "        const buttonEl =\n",
              "          document.querySelector('#df-b00cb97c-aeb4-430b-95af-81bc4b8d05dc button.colab-df-convert');\n",
              "        buttonEl.style.display =\n",
              "          google.colab.kernel.accessAllowed ? 'block' : 'none';\n",
              "\n",
              "        async function convertToInteractive(key) {\n",
              "          const element = document.querySelector('#df-b00cb97c-aeb4-430b-95af-81bc4b8d05dc');\n",
              "          const dataTable =\n",
              "            await google.colab.kernel.invokeFunction('convertToInteractive',\n",
              "                                                     [key], {});\n",
              "          if (!dataTable) return;\n",
              "\n",
              "          const docLinkHtml = 'Like what you see? Visit the ' +\n",
              "            '<a target=\"_blank\" href=https://colab.research.google.com/notebooks/data_table.ipynb>data table notebook</a>'\n",
              "            + ' to learn more about interactive tables.';\n",
              "          element.innerHTML = '';\n",
              "          dataTable['output_type'] = 'display_data';\n",
              "          await google.colab.output.renderOutput(dataTable, element);\n",
              "          const docLink = document.createElement('div');\n",
              "          docLink.innerHTML = docLinkHtml;\n",
              "          element.appendChild(docLink);\n",
              "        }\n",
              "      </script>\n",
              "    </div>\n",
              "  </div>\n",
              "  "
            ]
          },
          "metadata": {}
        }
      ]
    }
  ]
}